{
 "cells": [
  {
   "cell_type": "code",
   "execution_count": 6,
   "metadata": {},
   "outputs": [],
   "source": [
    "def crange(a,b):\n",
    "    return range(a,b+1)\n",
    "def printaja(a):\n",
    "    print(a,end=\"\")\n",
    "def ganjil(a):\n",
    "    return a*2-1\n",
    "def pb(a):\n",
    "    return a-1"
   ]
  },
  {
   "cell_type": "code",
   "execution_count": 7,
   "metadata": {},
   "outputs": [
    {
     "name": "stdout",
     "output_type": "stream",
     "text": [
      "____1\n",
      "___123\n",
      "__12345\n",
      "_1234567\n",
      "123456789\n"
     ]
    }
   ],
   "source": [
    "for y in crange(1,5):\n",
    "    for s in crange(1,5-y):\n",
    "        printaja(\"_\")\n",
    "    for x in crange(1,ganjil(y)):\n",
    "        printaja(x)\n",
    "    print()"
   ]
  },
  {
   "cell_type": "code",
   "execution_count": 8,
   "metadata": {},
   "outputs": [
    {
     "name": "stdout",
     "output_type": "stream",
     "text": [
      "123456789\n",
      "_1234567\n",
      "__12345\n",
      "___123\n",
      "____1\n"
     ]
    }
   ],
   "source": [
    "for y in crange(1,5):\n",
    "    for s in crange(1,y-1):\n",
    "        printaja(\"_\")\n",
    "    n=5-(y-1)\n",
    "    for x in crange(1,ganjil(n)):\n",
    "        printaja(x)\n",
    "    print()"
   ]
  },
  {
   "cell_type": "code",
   "execution_count": 21,
   "metadata": {},
   "outputs": [
    {
     "name": "stdout",
     "output_type": "stream",
     "text": [
      "____1\n",
      "___123\n",
      "__12345\n",
      "_1234567\n",
      "123456789\n",
      "_1234567\n",
      "__12345\n",
      "___123\n",
      "____1\n"
     ]
    }
   ],
   "source": [
    "\n",
    "for y in crange(-4,4):\n",
    "    for s in crange(1,abs(y)):\n",
    "        printaja(\"_\")\n",
    "    n=abs(y)\n",
    "    for x in crange(1,ganjil(5-n)):\n",
    "        printaja(x)\n",
    "    print()"
   ]
  },
  {
   "cell_type": "code",
   "execution_count": 16,
   "metadata": {},
   "outputs": [
    {
     "name": "stdout",
     "output_type": "stream",
     "text": [
      "123456789\n",
      "_1234567\n",
      "__12345\n",
      "___123\n",
      "____1\n"
     ]
    }
   ],
   "source": [
    "for y in crange(1,5):\n",
    "    for s in crange(1,y-1):\n",
    "        printaja(\"_\") \n",
    "    c=5-(y-1)\n",
    "    for x in crange(1,ganjil(c)):\n",
    "        printaja(x)\n",
    "    print()"
   ]
  },
  {
   "cell_type": "code",
   "execution_count": 23,
   "metadata": {},
   "outputs": [
    {
     "name": "stdout",
     "output_type": "stream",
     "text": [
      "____1\n",
      "___123\n",
      "__12345\n",
      "_1234567\n",
      "123456789\n",
      "_1234567\n",
      "__12345\n",
      "___123\n",
      "____1\n"
     ]
    }
   ],
   "source": [
    "for y in crange(-4,4):\n",
    "    for s in crange(1,abs(y)):\n",
    "        printaja(\"_\")\n",
    "    c=abs(y)\n",
    "    for x in crange(1,ganjil(5-c)):\n",
    "        printaja(x)\n",
    "    print()"
   ]
  },
  {
   "cell_type": "code",
   "execution_count": 25,
   "metadata": {},
   "outputs": [
    {
     "name": "stdout",
     "output_type": "stream",
     "text": [
      "____1\n",
      "___123\n",
      "__12345\n",
      "_1234567\n",
      "123456789\n"
     ]
    }
   ],
   "source": [
    "for y in crange(1,5):\n",
    "    for s in crange(1,5-y):\n",
    "        printaja(\"_\")\n",
    "    for x in crange(1,ganjil(y)):\n",
    "        printaja(x)\n",
    "    print()"
   ]
  },
  {
   "cell_type": "code",
   "execution_count": 28,
   "metadata": {},
   "outputs": [
    {
     "name": "stdout",
     "output_type": "stream",
     "text": [
      "123456789\n",
      "_1234567\n",
      "__12345\n",
      "___123\n",
      "____1\n"
     ]
    }
   ],
   "source": [
    "for y in crange(1,5):\n",
    "    for s in crange(1,y-1):\n",
    "        printaja(\"_\")\n",
    "    g=5-(y-1)\n",
    "    for x in crange(1,ganjil(g)):\n",
    "        printaja(x)\n",
    "    print()"
   ]
  },
  {
   "cell_type": "code",
   "execution_count": 32,
   "metadata": {},
   "outputs": [
    {
     "name": "stdout",
     "output_type": "stream",
     "text": [
      "____1\n",
      "___123\n",
      "__12345\n",
      "_1234567\n",
      "123456789\n",
      "_1234567\n",
      "__12345\n",
      "___123\n",
      "____1\n"
     ]
    }
   ],
   "source": [
    "for y in crange(-4,4):\n",
    "    for s in crange(1,abs(y)):\n",
    "        printaja(\"_\")\n",
    "    q=abs(y)\n",
    "    for x in crange(1,ganjil(5-q)):\n",
    "        printaja(x)\n",
    "    print()"
   ]
  },
  {
   "cell_type": "code",
   "execution_count": 39,
   "metadata": {},
   "outputs": [
    {
     "name": "stdout",
     "output_type": "stream",
     "text": [
      "____1\n",
      "___131\n",
      "__13531\n",
      "_1357531\n",
      "135797531\n"
     ]
    }
   ],
   "source": [
    "for y in crange(1,5):\n",
    "    for s in crange(1,5-y):\n",
    "        printaja(\"_\")\n",
    "    for x in crange(-pb(y),pb(y)):\n",
    "        n= y - abs(x)\n",
    "        printaja(ganjil(n))\n",
    "    print()"
   ]
  },
  {
   "cell_type": "code",
   "execution_count": 40,
   "metadata": {},
   "outputs": [
    {
     "name": "stdout",
     "output_type": "stream",
     "text": [
      "1\n",
      "_121\n",
      "__12321\n",
      "___1234321\n",
      "____123454321\n"
     ]
    }
   ],
   "source": [
    "for y in crange(1,5):\n",
    "    for s in crange(1,y-1):\n",
    "        printaja(\"_\")\n",
    "    b= 5-(y-1)\n",
    "    for x in crange(-pb(y),pb(y)):\n",
    "        n=y-abs(x)\n",
    "        printaja(n)\n",
    "    print()\n",
    "        "
   ]
  },
  {
   "cell_type": "code",
   "execution_count": null,
   "metadata": {},
   "outputs": [],
   "source": [
    " "
   ]
  }
 ],
 "metadata": {
  "kernelspec": {
   "display_name": "Python 3",
   "language": "python",
   "name": "python3"
  },
  "language_info": {
   "codemirror_mode": {
    "name": "ipython",
    "version": 3
   },
   "file_extension": ".py",
   "mimetype": "text/x-python",
   "name": "python",
   "nbconvert_exporter": "python",
   "pygments_lexer": "ipython3",
   "version": "3.6.4"
  }
 },
 "nbformat": 4,
 "nbformat_minor": 2
}
