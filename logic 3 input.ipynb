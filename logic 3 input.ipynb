{
 "cells": [
  {
   "cell_type": "code",
   "execution_count": 199,
   "metadata": {},
   "outputs": [],
   "source": [
    "def crange(a,b):\n",
    "    return range(a,b+1)\n",
    "def printaja(a):\n",
    "    print(a,end=\"\")"
   ]
  },
  {
   "cell_type": "code",
   "execution_count": 200,
   "metadata": {},
   "outputs": [
    {
     "name": "stdout",
     "output_type": "stream",
     "text": [
      "1\n",
      "1\n",
      "2\n",
      "3\n",
      "5\n",
      "8\n",
      "13\n",
      "21\n",
      "34\n"
     ]
    }
   ],
   "source": [
    "def fib(a):\n",
    "    if a<=2:\n",
    "        return 1\n",
    "    else :\n",
    "        return fib(a-1)+fib(a-2)\n",
    "for y in crange(1,9):\n",
    "    print (fib(y))"
   ]
  },
  {
   "cell_type": "code",
   "execution_count": 201,
   "metadata": {},
   "outputs": [
    {
     "name": "stdout",
     "output_type": "stream",
     "text": [
      "1\n",
      "1\n",
      "1\n",
      "4\n",
      "6\n",
      "10\n",
      "16\n",
      "26\n",
      "42\n"
     ]
    }
   ],
   "source": [
    "def fib3(a):\n",
    "    if a<=3:\n",
    "        return 1\n",
    "    else:\n",
    "        return fib (a-1)+fib(a-2)+fib(a-3)\n",
    "for y in crange(1,9):\n",
    "    print(fib3(y))"
   ]
  },
  {
   "cell_type": "code",
   "execution_count": 202,
   "metadata": {},
   "outputs": [
    {
     "name": "stdout",
     "output_type": "stream",
     "text": [
      "4\n"
     ]
    }
   ],
   "source": [
    "def fpb(a,b):\n",
    "    if b==0:\n",
    "        return a\n",
    "    else :\n",
    "        return fpb(b,a%b)\n",
    "    \n",
    "print(fpb(12,4))"
   ]
  },
  {
   "cell_type": "code",
   "execution_count": 203,
   "metadata": {},
   "outputs": [
    {
     "name": "stdout",
     "output_type": "stream",
     "text": [
      "12\n"
     ]
    }
   ],
   "source": [
    "def kpk (a,b):\n",
    "    return a*b//fpb(a,b)\n",
    "\n",
    "print(kpk(12,4))"
   ]
  },
  {
   "cell_type": "code",
   "execution_count": 204,
   "metadata": {},
   "outputs": [
    {
     "name": "stdout",
     "output_type": "stream",
     "text": [
      "1AAAAAAA16\n",
      "D3AAAAA14B\n",
      "DD5AAA12BB\n",
      "DDD7A10BBB\n",
      "DDDD9BBBB\n",
      "DDD6C11BBB\n",
      "DD4CCC13BB\n",
      "D2CCCCC15B\n",
      "0CCCCCCC17\n"
     ]
    }
   ],
   "source": [
    "for y in crange(1,9):\n",
    "    for x in crange(1,9):\n",
    "        if x==y :\n",
    "            printaja(x*2-1)\n",
    "        elif x==9-(y-1):\n",
    "            printaja(x*2-2)\n",
    "        elif x>y and x<9-(y-1):\n",
    "            printaja(\"A\")\n",
    "        elif x>y and x>9-(y-1):\n",
    "            printaja(\"B\")\n",
    "        elif x<y and x>9-(y-1):\n",
    "            printaja(\"C\")\n",
    "        elif x<y and x<9-(y-1):\n",
    "            printaja(\"D\")\n",
    "        else:\n",
    "            printaja(\"\")\n",
    "    print()"
   ]
  },
  {
   "cell_type": "code",
   "execution_count": 205,
   "metadata": {},
   "outputs": [
    {
     "name": "stdout",
     "output_type": "stream",
     "text": [
      "-4-3-2-101234\n",
      "-4-3-2-101234\n",
      "-4-3-2-101234\n",
      "-4-3-2-101234\n",
      "-4-3-2-101234\n",
      "-4-3-2-101234\n",
      "-4-3-2-101234\n",
      "-4-3-2-101234\n",
      "-4-3-2-101234\n"
     ]
    }
   ],
   "source": [
    "for y in crange(-4,4):\n",
    "    for x in crange(-4,4):\n",
    "        printaja(x)\n",
    "    print()"
   ]
  },
  {
   "cell_type": "code",
   "execution_count": 206,
   "metadata": {},
   "outputs": [
    {
     "name": "stdout",
     "output_type": "stream",
     "text": [
      "444444444\n",
      "433333334\n",
      "432222234\n",
      "432111234\n",
      "432101234\n",
      "432111234\n",
      "432222234\n",
      "433333334\n",
      "444444444\n"
     ]
    }
   ],
   "source": [
    "for y in crange(-4,4):\n",
    "    for x in crange(-4,4):\n",
    "        a= abs(x) if abs(x)>abs(y) else abs(y)\n",
    "        printaja(a)\n",
    "    print()\n",
    "        "
   ]
  },
  {
   "cell_type": "code",
   "execution_count": 207,
   "metadata": {},
   "outputs": [
    {
     "name": "stdout",
     "output_type": "stream",
     "text": [
      "111111111\n",
      "111111111\n",
      "112222211\n",
      "112333211\n",
      "112353211\n",
      "112333211\n",
      "112222211\n",
      "111111111\n",
      "111111111\n"
     ]
    }
   ],
   "source": [
    "for y in crange(-4,4):\n",
    "    for x in crange(-4,4):\n",
    "        d=abs(x) if abs(x)> abs(y) else abs(y)\n",
    "        s= 4-d+1\n",
    "        printaja(fib(s))\n",
    "    print()"
   ]
  },
  {
   "cell_type": "code",
   "execution_count": 241,
   "metadata": {},
   "outputs": [
    {
     "name": "stdout",
     "output_type": "stream",
     "text": [
      "111111111\n",
      "1_______1\n",
      "1_33333_1\n",
      "1_3___3_1\n",
      "1_3_5_3_1\n",
      "1_3___3_1\n",
      "1_33333_1\n",
      "1_______1\n",
      "111111111\n"
     ]
    }
   ],
   "source": [
    "for y in crange(-4,4):\n",
    "    for x in crange(-4,4):\n",
    "        d=abs(x) if abs(x)> abs(y) else abs(y)\n",
    "        s=5-d\n",
    "        if s%2==0:\n",
    "            printaja(\"_\")\n",
    "        else:\n",
    "            printaja(s)\n",
    "    print()"
   ]
  },
  {
   "cell_type": "code",
   "execution_count": 248,
   "metadata": {},
   "outputs": [
    {
     "name": "stdout",
     "output_type": "stream",
     "text": [
      "111111111\n",
      "1_______1\n",
      "1_11111_1\n",
      "1_1___1_1\n",
      "1_1_2_1_1\n",
      "1_1___1_1\n",
      "1_11111_1\n",
      "1_______1\n",
      "111111111\n"
     ]
    }
   ],
   "source": [
    "for y in crange(-4,4):\n",
    "    for x in crange(-4,4):\n",
    "        d=abs(x) if abs(x)>abs(y) else abs(y)\n",
    "        c=5-d\n",
    "        if c%2==0:\n",
    "            printaja(\"_\")\n",
    "        else:\n",
    "            s=c//2+1\n",
    "            printaja(fib(s))\n",
    "    print()"
   ]
  },
  {
   "cell_type": "code",
   "execution_count": 246,
   "metadata": {},
   "outputs": [
    {
     "name": "stdout",
     "output_type": "stream",
     "text": [
      "111111111\n",
      "1AAAAAAA1\n",
      "1A11111A1\n",
      "1A1BBB1A1\n",
      "1A1B2B1A1\n",
      "1A1BBB1A1\n",
      "1A11111A1\n",
      "1AAAAAAA1\n",
      "111111111\n"
     ]
    }
   ],
   "source": [
    "az=\"AB\"\n",
    "for y in crange(-4,4):\n",
    "    for x in crange(-4,4):\n",
    "        s=abs(x) if abs(x)>abs(y) else abs(y)\n",
    "        f=5-s\n",
    "        if f%2==0:\n",
    "            a=f//2-1\n",
    "            printaja(az[a])\n",
    "        else:\n",
    "            z=f//2+1\n",
    "            printaja(fib(z))\n",
    "    print()"
   ]
  },
  {
   "cell_type": "code",
   "execution_count": null,
   "metadata": {},
   "outputs": [],
   "source": []
  }
 ],
 "metadata": {
  "kernelspec": {
   "display_name": "Python 3",
   "language": "python",
   "name": "python3"
  },
  "language_info": {
   "codemirror_mode": {
    "name": "ipython",
    "version": 3
   },
   "file_extension": ".py",
   "mimetype": "text/x-python",
   "name": "python",
   "nbconvert_exporter": "python",
   "pygments_lexer": "ipython3",
   "version": "3.6.4"
  }
 },
 "nbformat": 4,
 "nbformat_minor": 2
}
