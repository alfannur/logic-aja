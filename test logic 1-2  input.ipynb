{
 "cells": [
  {
   "cell_type": "code",
   "execution_count": 5,
   "metadata": {},
   "outputs": [],
   "source": [
    "def crange(a,b):\n",
    "    return range(a,b+1)\n",
    "def printaja(a):\n",
    "    print (a,end=\"\")"
   ]
  },
  {
   "cell_type": "code",
   "execution_count": 6,
   "metadata": {},
   "outputs": [
    {
     "name": "stdout",
     "output_type": "stream",
     "text": [
      "ccccccccc\n",
      "ccccccccc\n",
      "ccccccccc\n",
      "ccccccccc\n",
      "ccccccccc\n",
      "ccccccccc\n",
      "ccccccccc\n",
      "ccccccccc\n",
      "ccccccccc\n"
     ]
    }
   ],
   "source": [
    "for y in crange(1,9):\n",
    "    for x in crange(1,9):\n",
    "        printaja(\"c\")\n",
    "    print()"
   ]
  },
  {
   "cell_type": "code",
   "execution_count": 7,
   "metadata": {},
   "outputs": [
    {
     "name": "stdout",
     "output_type": "stream",
     "text": [
      "*________\n",
      "_*_______\n",
      "__*______\n",
      "___*_____\n",
      "____*____\n",
      "_____*___\n",
      "______*__\n",
      "_______*_\n",
      "________*\n"
     ]
    }
   ],
   "source": [
    "for y in crange(1,9):\n",
    "    for x in crange(1,9):\n",
    "        if x==y:\n",
    "            printaja(\"*\")\n",
    "        else :\n",
    "            printaja(\"_\")\n",
    "    print()"
   ]
  },
  {
   "cell_type": "code",
   "execution_count": 8,
   "metadata": {},
   "outputs": [
    {
     "name": "stdout",
     "output_type": "stream",
     "text": [
      "________*\n",
      "_______*_\n",
      "______*__\n",
      "_____*___\n",
      "____*____\n",
      "___*_____\n",
      "__*______\n",
      "_*_______\n",
      "*________\n"
     ]
    }
   ],
   "source": [
    "for y in crange(1,9):\n",
    "    for x in crange(1,9):\n",
    "        if x==9-(y-1):\n",
    "            printaja(\"*\")\n",
    "        else :\n",
    "            printaja(\"_\")\n",
    "    print()"
   ]
  },
  {
   "cell_type": "code",
   "execution_count": 9,
   "metadata": {},
   "outputs": [
    {
     "name": "stdout",
     "output_type": "stream",
     "text": [
      "*_______*\n",
      "_*_____*_\n",
      "__*___*__\n",
      "___*_*___\n",
      "____*____\n",
      "___*_*___\n",
      "__*___*__\n",
      "_*_____*_\n",
      "*_______*\n"
     ]
    }
   ],
   "source": [
    "for y in crange(1,9):\n",
    "    for x in crange(1,9):\n",
    "        if x==y or x==9-(y-1):\n",
    "            printaja(\"*\")\n",
    "        else :\n",
    "            printaja(\"_\")\n",
    "    print()"
   ]
  },
  {
   "cell_type": "code",
   "execution_count": 10,
   "metadata": {},
   "outputs": [
    {
     "name": "stdout",
     "output_type": "stream",
     "text": [
      "*___*___*\n",
      "_*__*__*_\n",
      "__*_*_*__\n",
      "___***___\n",
      "*********\n",
      "___***___\n",
      "__*_*_*__\n",
      "_*__*__*_\n",
      "*___*___*\n"
     ]
    }
   ],
   "source": [
    "for y in crange (1,9):\n",
    "    for x in crange(1,9):\n",
    "        if x==y or x==9-(y-1) or x==5 or y==5 :\n",
    "            printaja(\"*\")\n",
    "        else :\n",
    "            printaja (\"_\")\n",
    "    print()"
   ]
  },
  {
   "cell_type": "code",
   "execution_count": 11,
   "metadata": {},
   "outputs": [
    {
     "name": "stdout",
     "output_type": "stream",
     "text": [
      "*********\n",
      "_********\n",
      "__*******\n",
      "___******\n",
      "____*****\n",
      "_____****\n",
      "______***\n",
      "_______**\n",
      "________*\n"
     ]
    }
   ],
   "source": [
    "for y in crange(1,9):\n",
    "    for x in crange(1,9):\n",
    "        if x>=y:\n",
    "            printaja(\"*\")\n",
    "        else :\n",
    "            printaja(\"_\")\n",
    "    print()"
   ]
  },
  {
   "cell_type": "code",
   "execution_count": 12,
   "metadata": {},
   "outputs": [
    {
     "name": "stdout",
     "output_type": "stream",
     "text": [
      "*________\n",
      "**_______\n",
      "***______\n",
      "****_____\n",
      "*****____\n",
      "******___\n",
      "*******__\n",
      "********_\n",
      "*********\n"
     ]
    }
   ],
   "source": [
    "for y in crange(1,9):\n",
    "    for x in crange(1,9):\n",
    "        if x<=y :\n",
    "            printaja(\"*\")\n",
    "        else:\n",
    "            printaja(\"_\")\n",
    "    print()"
   ]
  },
  {
   "cell_type": "code",
   "execution_count": 13,
   "metadata": {},
   "outputs": [
    {
     "name": "stdout",
     "output_type": "stream",
     "text": [
      "*********\n",
      "********_\n",
      "*******__\n",
      "******___\n",
      "*****____\n",
      "****_____\n",
      "***______\n",
      "**_______\n",
      "*________\n"
     ]
    }
   ],
   "source": [
    "for y in crange (1,9):\n",
    "    for x in crange(1,9):\n",
    "        if x<=9-(y-1) :\n",
    "            printaja(\"*\")\n",
    "        else :\n",
    "            printaja(\"_\")\n",
    "    print()"
   ]
  },
  {
   "cell_type": "code",
   "execution_count": 14,
   "metadata": {},
   "outputs": [
    {
     "name": "stdout",
     "output_type": "stream",
     "text": [
      "________*\n",
      "_______**\n",
      "______***\n",
      "_____****\n",
      "____*****\n",
      "___******\n",
      "__*******\n",
      "_********\n",
      "*********\n"
     ]
    }
   ],
   "source": [
    "for y in crange(1,9):\n",
    "    for x in crange (1,9):\n",
    "        if x>=9-(y-1):\n",
    "            printaja(\"*\")\n",
    "        else : \n",
    "            printaja(\"_\")\n",
    "    print()"
   ]
  },
  {
   "cell_type": "code",
   "execution_count": 15,
   "metadata": {},
   "outputs": [
    {
     "name": "stdout",
     "output_type": "stream",
     "text": [
      "*_______*\n",
      "**_____**\n",
      "***___***\n",
      "****_****\n",
      "*********\n",
      "****_****\n",
      "***___***\n",
      "**_____**\n",
      "*_______*\n"
     ]
    }
   ],
   "source": [
    "for y in crange (1,9):\n",
    "    for x in crange(1,9):\n",
    "        if x<=y and x<=9-(y-1):\n",
    "            printaja(\"*\")\n",
    "        elif x>=y and x>=9-(y-1):\n",
    "            printaja(\"*\")\n",
    "        else:\n",
    "            printaja(\"_\")\n",
    "    print()"
   ]
  },
  {
   "cell_type": "code",
   "execution_count": 16,
   "metadata": {},
   "outputs": [
    {
     "name": "stdout",
     "output_type": "stream",
     "text": [
      "*********\n",
      "_*******_\n",
      "__*****__\n",
      "___***___\n",
      "____*____\n",
      "___***___\n",
      "__*****__\n",
      "_*******_\n",
      "*********\n"
     ]
    }
   ],
   "source": [
    "for y in crange(1,9):\n",
    "    for x in crange (1,9):\n",
    "        if y<=x and y <=9-(x-1):\n",
    "            printaja(\"*\")\n",
    "        elif y>=x and y>=9-(x-1):\n",
    "            printaja(\"*\")\n",
    "        else :\n",
    "            printaja(\"_\")\n",
    "    print()"
   ]
  },
  {
   "cell_type": "code",
   "execution_count": null,
   "metadata": {},
   "outputs": [],
   "source": []
  },
  {
   "cell_type": "code",
   "execution_count": 17,
   "metadata": {},
   "outputs": [
    {
     "name": "stdout",
     "output_type": "stream",
     "text": [
      "1________\n",
      "_3_______\n",
      "__5______\n",
      "___7_____\n",
      "____9____\n",
      "_____11___\n",
      "______13__\n",
      "_______15_\n",
      "________17\n"
     ]
    }
   ],
   "source": [
    "for y in crange (1,9):\n",
    "    for x in crange(1,9):\n",
    "        if x==y:\n",
    "            printaja(x*2-1)\n",
    "        else:\n",
    "            printaja(\"_\")\n",
    "    print()"
   ]
  },
  {
   "cell_type": "code",
   "execution_count": 18,
   "metadata": {},
   "outputs": [
    {
     "name": "stdout",
     "output_type": "stream",
     "text": [
      "________16\n",
      "_______14_\n",
      "______12__\n",
      "_____10___\n",
      "____8____\n",
      "___6_____\n",
      "__4______\n",
      "_2_______\n",
      "0________\n"
     ]
    }
   ],
   "source": [
    "for y in crange (1,9):\n",
    "    for x in crange (1,9):\n",
    "        if x==9-(y-1):\n",
    "            printaja(x*2-2)\n",
    "        else:\n",
    "            printaja(\"_\")\n",
    "    print()"
   ]
  },
  {
   "cell_type": "code",
   "execution_count": 19,
   "metadata": {},
   "outputs": [
    {
     "name": "stdout",
     "output_type": "stream",
     "text": [
      "1_______16\n",
      "_3_____14_\n",
      "__5___12__\n",
      "___7_10___\n",
      "____9____\n",
      "___6_11___\n",
      "__4___13__\n",
      "_2_____15_\n",
      "0_______17\n"
     ]
    }
   ],
   "source": [
    "for y in crange(1,9):\n",
    "    for x in crange (1,9):\n",
    "        if x==y :\n",
    "            printaja(x*2-1)\n",
    "        elif x==9-(y-1):\n",
    "            printaja(x*2-2)\n",
    "        else :\n",
    "            printaja(\"_\")\n",
    "    print()"
   ]
  },
  {
   "cell_type": "code",
   "execution_count": 20,
   "metadata": {},
   "outputs": [
    {
     "name": "stdout",
     "output_type": "stream",
     "text": [
      "1___1___16\n",
      "_3__3__14_\n",
      "__5_5_12__\n",
      "___7710___\n",
      "0246910121416\n",
      "___61111___\n",
      "__4_13_13__\n",
      "_2__15__15_\n",
      "0___17___17\n"
     ]
    }
   ],
   "source": [
    "for y in crange (1,9):\n",
    "    for x in crange (1,9):\n",
    "        if x==y or x==5:\n",
    "            printaja(y*2-1)\n",
    "        elif x==9-(y-1) or y==5:\n",
    "            printaja(x*2-2)\n",
    "        else :\n",
    "            printaja(\"_\")\n",
    "    print()"
   ]
  },
  {
   "cell_type": "code",
   "execution_count": 21,
   "metadata": {},
   "outputs": [
    {
     "name": "stdout",
     "output_type": "stream",
     "text": [
      "1________\n",
      "13_______\n",
      "135______\n",
      "1357_____\n",
      "13579____\n",
      "1357911___\n",
      "135791113__\n",
      "13579111315_\n",
      "1357911131517\n"
     ]
    }
   ],
   "source": [
    "for y in crange (1,9):\n",
    "    for x in crange (1,9):\n",
    "        if x<=y:\n",
    "            printaja (x*2-1)\n",
    "        else:\n",
    "            printaja(\"_\")\n",
    "    print()"
   ]
  },
  {
   "cell_type": "code",
   "execution_count": 22,
   "metadata": {},
   "outputs": [
    {
     "name": "stdout",
     "output_type": "stream",
     "text": [
      "________16\n",
      "_______1414\n",
      "______121212\n",
      "_____10101010\n",
      "____88888\n",
      "___666666\n",
      "__4444444\n",
      "_22222222\n",
      "000000000\n"
     ]
    }
   ],
   "source": [
    "for y in crange (1,9):\n",
    "    for x in crange(1,9):\n",
    "        if x>=9-(y-1):\n",
    "            u=9-(y-1)\n",
    "            v=u*2-2\n",
    "            printaja(v)\n",
    "        else :\n",
    "            printaja(\"_\")\n",
    "    print()"
   ]
  },
  {
   "cell_type": "code",
   "execution_count": 23,
   "metadata": {},
   "outputs": [
    {
     "name": "stdout",
     "output_type": "stream",
     "text": [
      "1357911131517\n",
      "_357911131517\n",
      "__57911131517\n",
      "___7911131517\n",
      "____911131517\n",
      "_____11131517\n",
      "______131517\n",
      "_______1517\n",
      "________17\n"
     ]
    }
   ],
   "source": [
    "for y in crange (1,9):\n",
    "    for x in crange(1,9):\n",
    "        if x>=y:\n",
    "            printaja (x*2-1)\n",
    "        else :\n",
    "            printaja(\"_\")\n",
    "    print()"
   ]
  },
  {
   "cell_type": "code",
   "execution_count": 24,
   "metadata": {},
   "outputs": [
    {
     "name": "stdout",
     "output_type": "stream",
     "text": [
      "0246810121416\n",
      "02468101214_\n",
      "024681012__\n",
      "0246810___\n",
      "02468____\n",
      "0246_____\n",
      "024______\n",
      "02_______\n",
      "0________\n"
     ]
    }
   ],
   "source": [
    "for y in crange (1,9):\n",
    "    for x in crange (1,9):\n",
    "        if x<=9-(y-1):\n",
    "            printaja(x*2-2)\n",
    "        else :\n",
    "            printaja(\"_\")\n",
    "    print()"
   ]
  },
  {
   "cell_type": "code",
   "execution_count": 25,
   "metadata": {},
   "outputs": [
    {
     "name": "stdout",
     "output_type": "stream",
     "text": [
      "1357911131517\n",
      "_3579111315_\n",
      "__5791113__\n",
      "___7911___\n",
      "____9____\n",
      "___6810___\n",
      "__4681012__\n",
      "_2468101214_\n",
      "0246810121416\n"
     ]
    }
   ],
   "source": [
    "for y in crange(1,9):\n",
    "    for x in crange (1,9):\n",
    "        if y<=x and y <=9-(x-1):\n",
    "            printaja(x*2-1)\n",
    "        elif y>=x and y>=9-(x-1):\n",
    "            printaja(x*2-2)\n",
    "        else :\n",
    "            printaja(\"_\")\n",
    "    print()"
   ]
  },
  {
   "cell_type": "code",
   "execution_count": 26,
   "metadata": {},
   "outputs": [
    {
     "name": "stdout",
     "output_type": "stream",
     "text": [
      "1_______16\n",
      "a3_____14o\n",
      "aa5___12oo\n",
      "aaa7_10ooo\n",
      "aaaa9oooo\n",
      "aaa6_11ooo\n",
      "aa4___13oo\n",
      "a2_____15o\n",
      "0_______17\n"
     ]
    }
   ],
   "source": [
    "for y in crange (1,9):\n",
    "    for x in crange(1,9):\n",
    "        if x==y :\n",
    "            printaja(x*2-1)\n",
    "        elif x>y and x>9-(y-1):\n",
    "            printaja(\"o\")\n",
    "        elif x<y and x<9-(y-1):\n",
    "            printaja(\"a\")\n",
    "        elif x==9-(y-1):\n",
    "            printaja(x*2-2)\n",
    "        else:\n",
    "            printaja(\"_\")\n",
    "    print()"
   ]
  },
  {
   "cell_type": "code",
   "execution_count": 27,
   "metadata": {},
   "outputs": [
    {
     "name": "stdout",
     "output_type": "stream",
     "text": [
      "1ppppppp16\n",
      "_3ppppp14_\n",
      "__5ppp12__\n",
      "___7p10___\n",
      "____9____\n",
      "___6g11___\n",
      "__4ggg13__\n",
      "_2ggggg15_\n",
      "0ggggggg17\n"
     ]
    }
   ],
   "source": [
    "for y in crange(1,9):\n",
    "    for x in crange(1,9):\n",
    "        if x==y:\n",
    "            printaja(x*2-1)\n",
    "        elif x==9-(y-1):\n",
    "            printaja(x*2-2)\n",
    "        elif y<x and y<9-(x-1):\n",
    "            printaja(\"p\")\n",
    "        elif y>x and y>9-(x-1):\n",
    "            printaja(\"g\")\n",
    "        else :\n",
    "            printaja(\"_\")\n",
    "    print()"
   ]
  },
  {
   "cell_type": "code",
   "execution_count": 28,
   "metadata": {},
   "outputs": [],
   "source": [
    "def fib(a):\n",
    "    if a<=2:\n",
    "        return 1\n",
    "    else :\n",
    "        return fib(a-1)+fib(a-2)\n",
    "    "
   ]
  },
  {
   "cell_type": "code",
   "execution_count": 29,
   "metadata": {},
   "outputs": [
    {
     "name": "stdout",
     "output_type": "stream",
     "text": [
      "1\n",
      "1\n",
      "2\n",
      "3\n",
      "5\n",
      "8\n",
      "13\n",
      "21\n",
      "34\n"
     ]
    }
   ],
   "source": [
    "for t in crange(1,9):\n",
    "    print(fib(t))"
   ]
  },
  {
   "cell_type": "code",
   "execution_count": 30,
   "metadata": {},
   "outputs": [
    {
     "name": "stdout",
     "output_type": "stream",
     "text": [
      "1\n",
      "1\n",
      "3\n",
      "4\n",
      "6\n",
      "10\n",
      "16\n",
      "26\n",
      "42\n"
     ]
    }
   ],
   "source": [
    "def fib3(a):\n",
    "    if a<=2:\n",
    "        return 1\n",
    "    else :\n",
    "        return fib(a-1)+fib(a-2)+fib(a-3)\n",
    "    \n",
    "    \n",
    "for u in crange(1,9):\n",
    "    print(fib3(u))"
   ]
  },
  {
   "cell_type": "code",
   "execution_count": 31,
   "metadata": {},
   "outputs": [
    {
     "name": "stdout",
     "output_type": "stream",
     "text": [
      "12 3\n",
      "3 0\n",
      "3\n"
     ]
    }
   ],
   "source": [
    "def fpb(a,b):\n",
    "    if b==0:\n",
    "        print(a,b)\n",
    "        return a\n",
    "    else :\n",
    "        print(a,b)\n",
    "        return fpb (b,a%a)\n",
    "    \n",
    "print (fpb(12,3))"
   ]
  },
  {
   "cell_type": "code",
   "execution_count": 32,
   "metadata": {},
   "outputs": [
    {
     "name": "stdout",
     "output_type": "stream",
     "text": [
      "12 3\n",
      "3 0\n",
      "12\n"
     ]
    }
   ],
   "source": [
    "def kpk(a,b):\n",
    "    return a*b// fpb(a,b)\n",
    "print(kpk(12,3))"
   ]
  },
  {
   "cell_type": "code",
   "execution_count": 33,
   "metadata": {},
   "outputs": [
    {
     "name": "stdout",
     "output_type": "stream",
     "text": [
      "24 4\n",
      "4 0\n",
      "1\n"
     ]
    }
   ],
   "source": [
    "def fpb(a,b):\n",
    "    if b==0:\n",
    "        print(a,b)\n",
    "        return 1\n",
    "    else :\n",
    "        print(a,b)\n",
    "        return fpb(b,a%b)\n",
    "    \n",
    "print(fpb(24,4))"
   ]
  },
  {
   "cell_type": "code",
   "execution_count": 34,
   "metadata": {},
   "outputs": [
    {
     "name": "stdout",
     "output_type": "stream",
     "text": [
      "21 3\n",
      "3 0\n",
      "63\n"
     ]
    }
   ],
   "source": [
    "def kpk(a,b):\n",
    "    return a*b//fpb(a,b)\n",
    "print(kpk(21,3))"
   ]
  },
  {
   "cell_type": "code",
   "execution_count": 35,
   "metadata": {},
   "outputs": [
    {
     "name": "stdout",
     "output_type": "stream",
     "text": [
      "1\n",
      "1\n",
      "2\n",
      "3\n",
      "5\n",
      "8\n",
      "13\n",
      "21\n",
      "34\n"
     ]
    }
   ],
   "source": [
    "def fib(a):\n",
    "    if a<=2:\n",
    "        return 1\n",
    "    else:\n",
    "        return fib(a-1)+fib(a-2)\n",
    "    \n",
    "for u in crange(1,9):\n",
    "    print (fib(u))\n"
   ]
  },
  {
   "cell_type": "code",
   "execution_count": null,
   "metadata": {},
   "outputs": [],
   "source": []
  }
 ],
 "metadata": {
  "kernelspec": {
   "display_name": "Python 3",
   "language": "python",
   "name": "python3"
  },
  "language_info": {
   "codemirror_mode": {
    "name": "ipython",
    "version": 3
   },
   "file_extension": ".py",
   "mimetype": "text/x-python",
   "name": "python",
   "nbconvert_exporter": "python",
   "pygments_lexer": "ipython3",
   "version": "3.6.4"
  }
 },
 "nbformat": 4,
 "nbformat_minor": 2
}
